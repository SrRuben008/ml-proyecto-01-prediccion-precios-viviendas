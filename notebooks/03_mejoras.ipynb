{
  "cells": [
    {
      "cell_type": "markdown",
      "metadata": {},
      "source": [
        "# 03 · Mejoras (opcional)\n",
        "Experimenta con ingeniería de variables y modelos alternativos.\n",
        "## Asistencia de IA\n",
        "- ¿Qué pediste?\n",
        "- ¿Qué te propuso la IA?\n",
        "- ¿Qué decidiste y por qué?\n"
      ]
    },
    {
      "cell_type": "code",
      "execution_count": 5,
      "metadata": {},
      "outputs": [
        {
          "data": {
            "text/plain": [
              "({'max_depth': 20, 'n_estimators': 100}, np.float64(0.8005482207090638))"
            ]
          },
          "execution_count": 5,
          "metadata": {},
          "output_type": "execute_result"
        }
      ],
      "source": [
        "# Ejemplo: RandomForestRegressor + búsqueda simple de hiperparámetros\n",
        "from sklearn.ensemble import RandomForestRegressor\n",
        "from sklearn.model_selection import GridSearchCV\n",
        "from sklearn.datasets import fetch_california_housing\n",
        "from sklearn.model_selection import train_test_split\n",
        "X, y = fetch_california_housing(return_X_y=True, as_frame=True)\n",
        "X_train, X_test, y_train, y_test = train_test_split(X, y, test_size=0.2, random_state=42)\n",
        "grid = GridSearchCV(RandomForestRegressor(random_state=42),\n",
        "                    param_grid={\"n_estimators\":[50,100],\"max_depth\":[None,10,20]},\n",
        "                    cv=3, n_jobs=-1)\n",
        "grid.fit(X_train, y_train)\n",
        "grid.best_params_, grid.best_score_"
      ]
    },
    {
      "cell_type": "markdown",
      "id": "c2a8ea7c",
      "metadata": {},
      "source": [
        "## Escalado + Regresión Lineal\n"
      ]
    },
    {
      "cell_type": "code",
      "execution_count": 6,
      "id": "0b21260d",
      "metadata": {},
      "outputs": [
        {
          "data": {
            "text/plain": [
              "(np.float64(0.7455813830127764), 0.5332001304956564, 0.5757877060324508)"
            ]
          },
          "execution_count": 6,
          "metadata": {},
          "output_type": "execute_result"
        }
      ],
      "source": [
        "from sklearn.datasets import fetch_california_housing\n",
        "from sklearn.model_selection import train_test_split\n",
        "from sklearn.pipeline import Pipeline\n",
        "from sklearn.preprocessing import StandardScaler\n",
        "from sklearn.linear_model import LinearRegression\n",
        "from sklearn.metrics import mean_squared_error, mean_absolute_error, r2_score\n",
        "import numpy as np\n",
        "\n",
        "# 1. Cargar dataset\n",
        "X, y = fetch_california_housing(return_X_y=True, as_frame=True)\n",
        "\n",
        "# 2. Dividir en train/test\n",
        "X_train, X_test, y_train, y_test = train_test_split(\n",
        "    X, y, test_size=0.2, random_state=42\n",
        ")\n",
        "\n",
        "# 3. Crear pipeline y entrenar\n",
        "pipe_lin = Pipeline([\n",
        "    ('scaler', StandardScaler()),\n",
        "    ('model', LinearRegression())\n",
        "])\n",
        "\n",
        "pipe_lin.fit(X_train, y_train)\n",
        "preds_scaled = pipe_lin.predict(X_test)\n",
        "\n",
        "# 4. Calcular métricas\n",
        "\n",
        "mse_scaled = mean_squared_error(y_test, preds_scaled)  # MSE\n",
        "rmse_scaled = np.sqrt(mse_scaled)  # RMSE\n",
        "mae_scaled  = mean_absolute_error(y_test, preds_scaled)\n",
        "r2_scaled   = r2_score(y_test, preds_scaled)\n",
        "\n",
        "rmse_scaled, mae_scaled, r2_scaled"
      ]
    },
    {
      "cell_type": "markdown",
      "id": "56be6c1a",
      "metadata": {},
      "source": [
        "## Random Forest"
      ]
    },
    {
      "cell_type": "code",
      "execution_count": 7,
      "id": "167b403c",
      "metadata": {},
      "outputs": [
        {
          "data": {
            "text/plain": [
              "<Axes: >"
            ]
          },
          "execution_count": 7,
          "metadata": {},
          "output_type": "execute_result"
        },
        {
          "data": {
            "image/png": "[encoded data removed]",
            "text/plain": [
              "<Figure size 640x480 with 1 Axes>"
            ]
          },
          "metadata": {},
          "output_type": "display_data"
        }
      ],
      "source": [
        "from sklearn.ensemble import RandomForestRegressor\n",
        "from sklearn.metrics import mean_squared_error, mean_absolute_error, r2_score\n",
        "\n",
        "rf = RandomForestRegressor(\n",
        "    n_estimators=300, max_depth=None, random_state=42, n_jobs=-1\n",
        ")\n",
        "rf.fit(X_train, y_train)\n",
        "\n",
        "preds_rf = rf.predict(X_test)\n",
        "mse_rf  = mean_squared_error(y_test, preds_rf)\n",
        "rmse_rf = mse_rf ** 0.5\n",
        "mae_rf  = mean_absolute_error(y_test, preds_rf)\n",
        "r2_rf   = r2_score(y_test, preds_rf)\n",
        "rmse_rf, mae_rf, r2_rf\n",
        "import pandas as pd\n",
        "imp = pd.Series(rf.feature_importances_, index=X.columns).sort_values(ascending=True)\n",
        "imp.plot(kind='barh')"
      ]
    },
    {
      "cell_type": "code",
      "execution_count": 8,
      "id": "34d43488",
      "metadata": {},
      "outputs": [
        {
          "data": {
            "text/plain": [
              "(0.5034218492503684, 0.32660672448320444, 0.8065996475063295)"
            ]
          },
          "execution_count": 8,
          "metadata": {},
          "output_type": "execute_result"
        }
      ],
      "source": [
        "rmse_rf, mae_rf, r2_rf"
      ]
    },
    {
      "cell_type": "code",
      "execution_count": 9,
      "id": "48c6b45b",
      "metadata": {},
      "outputs": [
        {
          "name": "stdout",
          "output_type": "stream",
          "text": [
            "Fitting 3 folds for each of 24 candidates, totalling 72 fits\n",
            "Mejores hiperparámetros: {'max_depth': 20, 'min_samples_leaf': 1, 'min_samples_split': 2, 'n_estimators': 400}\n",
            "RMSE (CV) con esos params: 0.5136511005402299\n"
          ]
        },
        {
          "data": {
            "text/plain": [
              "(np.float64(0.5029991264046748), 0.32617030964805854, 0.8069243073231187)"
            ]
          },
          "execution_count": 9,
          "metadata": {},
          "output_type": "execute_result"
        }
      ],
      "source": [
        "##Probamos con GridSearchCV\n",
        "from sklearn.ensemble import RandomForestRegressor #Importamos el modelo Forest Regressor\n",
        "from sklearn.model_selection import GridSearchCV #Importamos el GridSearchCV\n",
        "from sklearn.metrics import mean_squared_error, mean_absolute_error, r2_score\n",
        "import numpy as np\n",
        "import pandas as pd\n",
        "\n",
        "# 1) Definimos el modelo base\n",
        "rf = RandomForestRegressor(random_state=42, n_jobs=-1)\n",
        "\n",
        "# 2) Espacio de búsqueda (pequeño para no tardar demasiado)\n",
        "param_grid = {\n",
        "    \"n_estimators\": [200, 400],\n",
        "    \"max_depth\": [None, 12, 20],\n",
        "    \"min_samples_split\": [2, 5],\n",
        "    \"min_samples_leaf\": [1, 2]\n",
        "}\n",
        "\n",
        "# 3) GridSearchCV con validación cruzada\n",
        "grid = GridSearchCV(\n",
        "    estimator=rf,\n",
        "    param_grid=param_grid,\n",
        "    cv=3,\n",
        "    scoring=\"neg_root_mean_squared_error\",  # usa RMSE (negativo)\n",
        "    n_jobs=-1,\n",
        "    verbose=1\n",
        ")\n",
        "\n",
        "grid.fit(X_train, y_train)\n",
        "\n",
        "print(\"Mejores hiperparámetros:\", grid.best_params_)\n",
        "print(\"RMSE (CV) con esos params:\", -grid.best_score_)\n",
        "\n",
        "# 4) Reentrenar en train con los mejores parámetros y evaluar en test\n",
        "best_rf = RandomForestRegressor(random_state=42, n_jobs=-1, **grid.best_params_)\n",
        "best_rf.fit(X_train, y_train)\n",
        "\n",
        "preds_best = best_rf.predict(X_test)\n",
        "\n",
        "mse_best  = mean_squared_error(y_test, preds_best)   # MSE\n",
        "rmse_best = np.sqrt(mse_best)                        # RMSE\n",
        "mae_best  = mean_absolute_error(y_test, preds_best)\n",
        "r2_best   = r2_score(y_test, preds_best)\n",
        "\n",
        "rmse_best, mae_best, r2_best"
      ]
    },
    {
      "cell_type": "code",
      "execution_count": null,
      "id": "cb82de5c",
      "metadata": {},
      "outputs": [
        {
          "name": "stdout",
          "output_type": "stream",
          "text": [
            "✅ Resultados guardados en la carpeta 'reports'\n"
          ]
        },
        {
          "ename": "",
          "evalue": "",
          "output_type": "error",
          "traceback": [
            "\u001b[1;31mThe Kernel crashed while executing code in the current cell or a previous cell. \n",
            "\u001b[1;31mPlease review the code in the cell(s) to identify a possible cause of the failure. \n",
            "\u001b[1;31mClick <a href='https://aka.ms/vscodeJupyterKernelCrash'>here</a> for more info. \n",
            "\u001b[1;31mView Jupyter <a href='command:jupyter.viewOutput'>log</a> for further details."
          ]
        }
      ],
      "source": [
        "from pathlib import Path\n",
        "import json\n",
        "import pandas as pd\n",
        "import matplotlib.pyplot as plt\n",
        "\n",
        "# Crear carpeta reports si no existe\n",
        "Path(\"reports\").mkdir(parents=True, exist_ok=True)\n",
        "\n",
        "# 1️⃣ Guardar métricas Random Forest normal\n",
        "metrics_rf = {\n",
        "    \"RMSE\": float(rmse_rf),\n",
        "    \"MAE\": float(mae_rf),\n",
        "    \"R2\": float(r2_rf)\n",
        "}\n",
        "with open(\"reports/metrics_rf.json\", \"w\") as f:\n",
        "    json.dump(metrics_rf, f, indent=2)\n",
        "\n",
        "# 2️⃣ Guardar métricas Random Forest optimizado\n",
        "metrics_best_rf = {\n",
        "    \"RMSE\": float(rmse_best),\n",
        "    \"MAE\": float(mae_best),\n",
        "    \"R2\": float(r2_best),\n",
        "    \"Best Params\": grid.best_params_\n",
        "}\n",
        "with open(\"reports/metrics_best_rf.json\", \"w\") as f:\n",
        "    json.dump(metrics_best_rf, f, indent=2)\n",
        "\n",
        "# 3️⃣ Guardar importancias de variables del mejor modelo\n",
        "importances = pd.Series(best_rf.feature_importances_, index=X.columns).sort_values(ascending=True)\n",
        "ax = importances.plot(kind='barh', figsize=(8,6))\n",
        "ax.set_title(\"Feature Importances - Random Forest (Best Model)\")\n",
        "plt.tight_layout()\n",
        "plt.savefig(\"reports/feature_importances_best_rf.png\")\n",
        "plt.close()\n",
        "\n",
        "print(\"✅ Resultados guardados en la carpeta 'reports'\")\n"
      ]
    }
  ],
  "metadata": {
    "kernelspec": {
      "display_name": "Python 3",
      "language": "python",
      "name": "python3"
    },
    "language_info": {
      "codemirror_mode": {
        "name": "ipython",
        "version": 3
      },
      "file_extension": ".py",
      "mimetype": "text/x-python",
      "name": "python",
      "nbconvert_exporter": "python",
      "pygments_lexer": "ipython3",
      "version": "3.12.4"
    }
  },
  "nbformat": 4,
  "nbformat_minor": 5
}
