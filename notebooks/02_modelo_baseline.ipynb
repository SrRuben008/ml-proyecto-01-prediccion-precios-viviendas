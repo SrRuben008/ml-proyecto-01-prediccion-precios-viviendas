{
  "cells": [
    {
      "cell_type": "markdown",
      "id": "f67d3403",
      "metadata": {},
      "source": [
        "# 02 · Baseline de modelo\n",
        "Entrena un modelo sencillo y reporta métricas (RMSE/MAE/R2). Usamos el dataset de CaliforniaHousing, que nos da diferentes datos en columnas: MedInc, HouseAge, AveRooms, AveBedrms, Population, AveOccup, Latitude, Longitude; y el objetivo del modelo será predecir la última columna: MedHouseVal.\n",
        "## Asistencia de IA\n",
        "- ¿Qué pediste?\n",
        "- ¿Qué te propuso la IA?\n",
        "- ¿Qué decidiste y por qué?\n"
      ]
    },
    {
      "cell_type": "code",
      "execution_count": null,
      "id": "9c24e023",
      "metadata": {},
      "outputs": [
        {
          "data": {
            "text/plain": [
              "(np.float64(0.7455813830127761), 0.5332001304956558, 0.5757877060324511)"
            ]
          },
          "execution_count": 11,
          "metadata": {},
          "output_type": "execute_result"
        }
      ],
      "source": [
        "from sklearn.model_selection import train_test_split \n",
        "from sklearn.linear_model import LinearRegression #Importamos el modelo de regresión lineal\n",
        "from sklearn.metrics import mean_squared_error, mean_absolute_error, r2_score  #Importamos las métricas a usar (los errores)\n",
        "from sklearn.datasets import fetch_california_housing\n",
        "import numpy as np\n",
        "X, y = fetch_california_housing(return_X_y=True, as_frame=True)\n",
        "X_train, X_test, y_train, y_test = train_test_split(X, y, test_size=0.2, random_state=42)\n",
        "model = LinearRegression().fit(X_train, y_train)\n",
        "preds = model.predict(X_test)\n",
        "mse = mean_squared_error(y_test, preds)  # devuelve MSE\n",
        "rmse = np.sqrt(mse)   \n",
        "mae = mean_absolute_error(y_test, preds)\n",
        "r2 = r2_score(y_test, preds)\n",
        "rmse, mae, r2"
      ]
    },
    {
      "cell_type": "code",
      "execution_count": 2,
      "id": "1d8001b7",
      "metadata": {},
      "outputs": [
        {
          "name": "stdout",
          "output_type": "stream",
          "text": [
            "Requirement already satisfied: scikit-learn in c:\\users\\acer predator\\appdata\\local\\programs\\python\\python312\\lib\\site-packages (1.6.0)\n",
            "Collecting scikit-learn\n",
            "  Downloading scikit_learn-1.7.1-cp312-cp312-win_amd64.whl.metadata (11 kB)\n",
            "Requirement already satisfied: numpy>=1.22.0 in c:\\users\\acer predator\\appdata\\local\\programs\\python\\python312\\lib\\site-packages (from scikit-learn) (2.0.1)\n",
            "Requirement already satisfied: scipy>=1.8.0 in c:\\users\\acer predator\\appdata\\local\\programs\\python\\python312\\lib\\site-packages (from scikit-learn) (1.14.1)\n",
            "Requirement already satisfied: joblib>=1.2.0 in c:\\users\\acer predator\\appdata\\local\\programs\\python\\python312\\lib\\site-packages (from scikit-learn) (1.4.2)\n",
            "Requirement already satisfied: threadpoolctl>=3.1.0 in c:\\users\\acer predator\\appdata\\local\\programs\\python\\python312\\lib\\site-packages (from scikit-learn) (3.5.0)\n",
            "Downloading scikit_learn-1.7.1-cp312-cp312-win_amd64.whl (8.7 MB)\n",
            "   ---------------------------------------- 0.0/8.7 MB ? eta -:--:--\n",
            "   - -------------------------------------- 0.3/8.7 MB ? eta -:--:--\n",
            "   -- ------------------------------------- 0.5/8.7 MB 2.1 MB/s eta 0:00:04\n",
            "   ------ --------------------------------- 1.3/8.7 MB 2.5 MB/s eta 0:00:03\n",
            "   --------- ------------------------------ 2.1/8.7 MB 2.9 MB/s eta 0:00:03\n",
            "   ------------ --------------------------- 2.6/8.7 MB 3.0 MB/s eta 0:00:03\n",
            "   --------------- ------------------------ 3.4/8.7 MB 3.0 MB/s eta 0:00:02\n",
            "   ------------------- -------------------- 4.2/8.7 MB 3.2 MB/s eta 0:00:02\n",
            "   ---------------------- ----------------- 5.0/8.7 MB 3.3 MB/s eta 0:00:02\n",
            "   -------------------------- ------------- 5.8/8.7 MB 3.3 MB/s eta 0:00:01\n",
            "   ------------------------------ --------- 6.6/8.7 MB 3.4 MB/s eta 0:00:01\n",
            "   --------------------------------- ------ 7.3/8.7 MB 3.4 MB/s eta 0:00:01\n",
            "   ------------------------------------ --- 7.9/8.7 MB 3.4 MB/s eta 0:00:01\n",
            "   ---------------------------------------- 8.7/8.7 MB 3.5 MB/s eta 0:00:00\n",
            "Installing collected packages: scikit-learn\n",
            "  Attempting uninstall: scikit-learn\n",
            "    Found existing installation: scikit-learn 1.6.0\n",
            "    Uninstalling scikit-learn-1.6.0:\n",
            "      Successfully uninstalled scikit-learn-1.6.0\n",
            "Successfully installed scikit-learn-1.7.1\n",
            "Note: you may need to restart the kernel to use updated packages.\n"
          ]
        },
        {
          "name": "stderr",
          "output_type": "stream",
          "text": [
            "  WARNING: Failed to remove contents in a temporary directory 'C:\\Users\\Acer Predator\\AppData\\Local\\Programs\\Python\\Python312\\Lib\\site-packages\\~klearn'.\n",
            "  You can safely remove it manually.\n",
            "\n",
            "[notice] A new release of pip is available: 25.1.1 -> 25.2\n",
            "[notice] To update, run: python.exe -m pip install --upgrade pip\n"
          ]
        }
      ],
      "source": [
        "pip install -U scikit-learn"
      ]
    },
    {
      "cell_type": "code",
      "execution_count": 6,
      "id": "fef072d1",
      "metadata": {},
      "outputs": [
        {
          "name": "stdout",
          "output_type": "stream",
          "text": [
            "Requirement already satisfied: pip in c:\\users\\acer predator\\appdata\\local\\programs\\python\\python312\\lib\\site-packages (25.1.1)\n",
            "Collecting pip\n",
            "  Downloading pip-25.2-py3-none-any.whl.metadata (4.7 kB)\n",
            "Downloading pip-25.2-py3-none-any.whl (1.8 MB)\n",
            "   ---------------------------------------- 0.0/1.8 MB ? eta -:--:--\n",
            "   ----------- ---------------------------- 0.5/1.8 MB 4.2 MB/s eta 0:00:01\n",
            "   ----------------------------------- ---- 1.6/1.8 MB 4.4 MB/s eta 0:00:01\n",
            "   ---------------------------------------- 1.8/1.8 MB 4.1 MB/s eta 0:00:00\n",
            "Installing collected packages: pip\n",
            "  Attempting uninstall: pip\n",
            "    Found existing installation: pip 25.1.1\n",
            "    Uninstalling pip-25.1.1:\n",
            "      Successfully uninstalled pip-25.1.1\n",
            "Successfully installed pip-25.2\n",
            "Note: you may need to restart the kernel to use updated packages.\n"
          ]
        }
      ],
      "source": [
        "pip install --upgrade pip"
      ]
    },
    {
      "cell_type": "code",
      "execution_count": null,
      "id": "898b0fdc",
      "metadata": {},
      "outputs": [],
      "source": []
    }
  ],
  "metadata": {
    "kernelspec": {
      "display_name": "Python 3",
      "language": "python",
      "name": "python3"
    },
    "language_info": {
      "codemirror_mode": {
        "name": "ipython",
        "version": 3
      },
      "file_extension": ".py",
      "mimetype": "text/x-python",
      "name": "python",
      "nbconvert_exporter": "python",
      "pygments_lexer": "ipython3",
      "version": "3.12.4"
    }
  },
  "nbformat": 4,
  "nbformat_minor": 5
}
